{
 "cells": [
  {
   "cell_type": "code",
   "execution_count": null,
   "metadata": {},
   "outputs": [],
   "source": [
    "%pip install numpy\n",
    "%pip install matplotlib"
   ]
  },
  {
   "cell_type": "code",
   "execution_count": null,
   "metadata": {},
   "outputs": [],
   "source": [
    "import numpy as np\n",
    "from matplotlib import pyplot as plt"
   ]
  },
  {
   "cell_type": "code",
   "execution_count": null,
   "metadata": {},
   "outputs": [],
   "source": [
    "plt.rcParams[\"figure.figsize\"] = [10.0, 2.0]"
   ]
  },
  {
   "cell_type": "code",
   "execution_count": null,
   "metadata": {},
   "outputs": [],
   "source": [
    "x = np.linspace(-10,10,1000)"
   ]
  },
  {
   "cell_type": "code",
   "execution_count": null,
   "metadata": {},
   "outputs": [],
   "source": [
    "def f(x):\n",
    "    return np.sin(x) + x + x * np.sin(x)\n",
    "plt.subplot(121),plt.plot(x, f(x), color='lightgreen')\n",
    "plt.show()"
   ]
  },
  {
   "cell_type": "markdown",
   "metadata": {},
   "source": [
    "# Convolução com duas funções de mesmo tamanho"
   ]
  },
  {
   "cell_type": "code",
   "execution_count": null,
   "metadata": {},
   "outputs": [],
   "source": [
    "def g(x):\n",
    "    return -np.square(x) + 3 * x - 2"
   ]
  },
  {
   "cell_type": "code",
   "execution_count": null,
   "metadata": {},
   "outputs": [],
   "source": [
    "plt.subplot(121),plt.plot(x, f(x), color='lightgreen')\n",
    "plt.subplot(122),plt.plot(x, g(x), color='darkcyan')\n",
    "plt.show()"
   ]
  },
  {
   "cell_type": "code",
   "execution_count": null,
   "metadata": {},
   "outputs": [],
   "source": [
    "f_g_same = np.convolve(f(x),g(x),'same')"
   ]
  },
  {
   "cell_type": "code",
   "execution_count": null,
   "metadata": {},
   "outputs": [],
   "source": [
    "plt.plot(x,f_g_same,color='purple')\n",
    "plt.show()"
   ]
  },
  {
   "cell_type": "markdown",
   "metadata": {},
   "source": [
    "# Convolução com função projetada"
   ]
  },
  {
   "cell_type": "code",
   "execution_count": null,
   "metadata": {},
   "outputs": [],
   "source": [
    "slope = np.array([1,0,-1]) # basicamente a mesma coisa que calcular uma inclinação"
   ]
  },
  {
   "cell_type": "code",
   "execution_count": null,
   "metadata": {},
   "outputs": [],
   "source": [
    "f_slope_valid = np.convolve(f(x),slope,'valid')"
   ]
  },
  {
   "cell_type": "code",
   "execution_count": null,
   "metadata": {},
   "outputs": [],
   "source": [
    "convoluted_range = x[len(slope)//2:-(len(slope)//2)]\n",
    "plt.subplot(121),plt.plot(convoluted_range,f(convoluted_range),color='lightgreen')\n",
    "plt.subplot(122),plt.plot(convoluted_range,f_slope_valid,color='purple')\n",
    "plt.show()\n",
    "plt.plot(convoluted_range,f_slope_valid,color='purple')\n",
    "plt.plot(convoluted_range,f(convoluted_range),color='lightgreen')\n",
    "plt.show()"
   ]
  },
  {
   "cell_type": "markdown",
   "metadata": {},
   "source": [
    "# Função delta\n",
    "---\n",
    "movimenta a função em uma direção"
   ]
  },
  {
   "cell_type": "code",
   "execution_count": null,
   "metadata": {},
   "outputs": [],
   "source": [
    "delta = np.append(1,np.zeros(100))"
   ]
  },
  {
   "cell_type": "code",
   "execution_count": null,
   "metadata": {},
   "outputs": [],
   "source": [
    "f_delta_valid = np.convolve(f(x),delta,'valid')"
   ]
  },
  {
   "cell_type": "code",
   "execution_count": null,
   "metadata": {},
   "outputs": [],
   "source": [
    "convoluted_range = x[len(delta)//2:-(len(delta)//2)]"
   ]
  },
  {
   "cell_type": "code",
   "execution_count": null,
   "metadata": {},
   "outputs": [],
   "source": [
    "plt.subplot(121),plt.plot(convoluted_range,f(convoluted_range),color='lightgreen')\n",
    "plt.subplot(122),plt.plot(convoluted_range,f_delta_valid,color='purple')\n",
    "plt.show()\n",
    "plt.plot(convoluted_range,f_delta_valid,color='purple')\n",
    "plt.plot(convoluted_range,f(convoluted_range),color='lightgreen')\n",
    "plt.show()"
   ]
  },
  {
   "cell_type": "markdown",
   "metadata": {},
   "source": [
    "# Função de pente (comb function)\n",
    "---\n",
    "uma sequencia infinita de funções delta com um espaçamento T\n",
    "> alegadamente ao convolucionar com uma entrada analógica você consegue o sampe da entrada digital"
   ]
  },
  {
   "cell_type": "code",
   "execution_count": null,
   "metadata": {},
   "outputs": [],
   "source": [
    "T = 10\n",
    "delta = np.array([\n",
    "    np.append(1,np.zeros(T))\n",
    "    ])\n",
    "pente = np.reshape(\n",
    "        np.repeat(\n",
    "            delta,\n",
    "            repeats=(x.size)//(delta.size),\n",
    "            axis=0),\n",
    "        newshape=-1\n",
    "        )"
   ]
  },
  {
   "cell_type": "code",
   "execution_count": null,
   "metadata": {},
   "outputs": [],
   "source": [
    "f_pente_valid = np.convolve(f(x),pente,'full')"
   ]
  },
  {
   "cell_type": "code",
   "execution_count": null,
   "metadata": {},
   "outputs": [],
   "source": [
    "convoluted_range_left = range(0,len(x)-T-1)\n",
    "convoluted_range_right = range(len(x),2*len(x)-T-1)"
   ]
  },
  {
   "cell_type": "code",
   "execution_count": null,
   "metadata": {},
   "outputs": [],
   "source": [
    "plt.plot(x,f(x),color='lightgreen')\n",
    "plt.show()\n",
    "plt.subplot(121),plt.plot(convoluted_range_left,f_pente_valid[convoluted_range_left],color='purple')\n",
    "plt.subplot(122),plt.plot(convoluted_range_right,f_pente_valid[convoluted_range_right],color='purple')\n",
    "plt.show()\n",
    "# plt.plot(x,f_pente_valid,color='purple')\n",
    "# plt.plot(x,f(convoluted_range),color='lightgreen')\n",
    "plt.plot(f_pente_valid,color='purple')\n",
    "plt.show()"
   ]
  },
  {
   "cell_type": "markdown",
   "metadata": {},
   "source": [
    "## testando função de pente em funções mais simples\n",
    "---\n",
    "percepcões importantes:\n",
    "- quando a função é impar (ex: cos()) o lado esquerdo da convolução fica igual, se não ele fica invertido\n",
    "- os steps seguem proximo da normal da curva"
   ]
  },
  {
   "cell_type": "code",
   "execution_count": null,
   "metadata": {},
   "outputs": [],
   "source": [
    "def h(x):\n",
    "    return np.cos(x) + np.sin(x)"
   ]
  },
  {
   "cell_type": "code",
   "execution_count": null,
   "metadata": {},
   "outputs": [],
   "source": [
    "plt.plot(x, h(x), color='lightgreen')\n",
    "plt.show()"
   ]
  },
  {
   "cell_type": "code",
   "execution_count": null,
   "metadata": {},
   "outputs": [],
   "source": [
    "T = 10\n",
    "delta = np.array([\n",
    "    np.append(1,np.zeros(T))\n",
    "    ])\n",
    "pente = np.reshape(\n",
    "        np.repeat(\n",
    "            delta,\n",
    "            repeats=(x.size)//(delta.size),\n",
    "            axis=0),\n",
    "        newshape=-1\n",
    "        )"
   ]
  },
  {
   "cell_type": "code",
   "execution_count": null,
   "metadata": {},
   "outputs": [],
   "source": [
    "h_pente_valid = np.convolve(h(x),pente,'full')"
   ]
  },
  {
   "cell_type": "code",
   "execution_count": null,
   "metadata": {},
   "outputs": [],
   "source": [
    "convoluted_range_left = range(0,len(x)-T-1)\n",
    "convoluted_range_right = range(len(x)-T-1,2*len(x)-T-1)"
   ]
  },
  {
   "cell_type": "code",
   "execution_count": null,
   "metadata": {},
   "outputs": [],
   "source": [
    "plt.plot(x,h(x),color='lightgreen')\n",
    "plt.show()\n",
    "plt.subplot(121),plt.plot(convoluted_range_left,h_pente_valid[convoluted_range_left],color='purple')\n",
    "plt.subplot(122),plt.plot(convoluted_range_right,h_pente_valid[convoluted_range_right],color='purple')\n",
    "plt.show()\n",
    "# plt.plot(x,f_pente_valid,color='purple')\n",
    "# plt.plot(x,f(convoluted_range),color='lightgreen')\n",
    "plt.plot(h_pente_valid,color='purple')\n",
    "plt.show()"
   ]
  }
 ],
 "metadata": {
  "kernelspec": {
   "display_name": ".venv",
   "language": "python",
   "name": "python3"
  },
  "language_info": {
   "codemirror_mode": {
    "name": "ipython",
    "version": 3
   },
   "file_extension": ".py",
   "mimetype": "text/x-python",
   "name": "python",
   "nbconvert_exporter": "python",
   "pygments_lexer": "ipython3",
   "version": "3.9.6"
  }
 },
 "nbformat": 4,
 "nbformat_minor": 2
}
